{
  "nbformat": 4,
  "nbformat_minor": 0,
  "metadata": {
    "colab": {
      "provenance": [],
      "machine_shape": "hm",
      "gpuType": "A100",
      "authorship_tag": "ABX9TyPPPMwMcSZE1E+nziIsAMvG",
      "include_colab_link": true
    },
    "kernelspec": {
      "name": "python3",
      "display_name": "Python 3"
    },
    "language_info": {
      "name": "python"
    },
    "accelerator": "GPU"
  },
  "cells": [
    {
      "cell_type": "markdown",
      "metadata": {
        "id": "view-in-github",
        "colab_type": "text"
      },
      "source": [
        "<a href=\"https://colab.research.google.com/github/hopperrr/resemble-enhance/blob/main/resemble_enhance.ipynb\" target=\"_parent\"><img src=\"https://colab.research.google.com/assets/colab-badge.svg\" alt=\"Open In Colab\"/></a>"
      ]
    },
    {
      "cell_type": "code",
      "execution_count": null,
      "metadata": {
        "id": "qNJ1UOwmWk1D"
      },
      "outputs": [],
      "source": [
        "#Run this cell first\n",
        "!pip install resemble-enhance --upgrade\n",
        "!git clone https://github.com/hopperrr/resemble-enhance.git"
      ]
    },
    {
      "cell_type": "code",
      "source": [
        "#Run this and click on the gradio URL in the output (starts with \"Running on public URL:\") to open a new browser window that is an interface for \"Resemble Enhance\"\n",
        "%cd resemble-enhance\n",
        "!python app.py"
      ],
      "metadata": {
        "id": "xtPToAQfYkN4"
      },
      "execution_count": null,
      "outputs": []
    }
  ]
}